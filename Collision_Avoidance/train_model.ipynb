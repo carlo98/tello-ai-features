{
 "cells": [
  {
   "cell_type": "markdown",
   "metadata": {
    "id": "XoQpd6nUzKi8"
   },
   "source": [
    "# Collision Avoidance - Train Model"
   ]
  },
  {
   "cell_type": "code",
   "execution_count": null,
   "metadata": {
    "colab": {
     "base_uri": "https://localhost:8080/"
    },
    "executionInfo": {
     "elapsed": 24609,
     "status": "ok",
     "timestamp": 1611927707746,
     "user": {
      "displayName": "Carlo Cena",
      "photoUrl": "https://lh3.googleusercontent.com/a-/AOh14Gh0f3a0eH9ojDaNw5OS4vAEjBjEgOMrbr5i7JdQ8Q=s64",
      "userId": "14201859508342393884"
     },
     "user_tz": -60
    },
    "id": "5ZrWM-ahzbkj",
    "outputId": "8f55dc00-8614-460e-9dcf-db49aad684d4"
   },
   "outputs": [],
   "source": [
    "#from google.colab import drive\n",
    "#drive.mount('/gdrive')\n",
    "#%cd /gdrive"
   ]
  },
  {
   "cell_type": "code",
   "execution_count": null,
   "metadata": {
    "colab": {
     "base_uri": "https://localhost:8080/",
     "height": 341
    },
    "executionInfo": {
     "elapsed": 1189,
     "status": "error",
     "timestamp": 1611931295153,
     "user": {
      "displayName": "Carlo Cena",
      "photoUrl": "https://lh3.googleusercontent.com/a-/AOh14Gh0f3a0eH9ojDaNw5OS4vAEjBjEgOMrbr5i7JdQ8Q=s64",
      "userId": "14201859508342393884"
     },
     "user_tz": -60
    },
    "id": "C-KXQ5xnzKjJ",
    "outputId": "27d1bcad-daa6-4146-9192-ebb091c5197c"
   },
   "outputs": [],
   "source": [
    "import torch\n",
    "import torch.optim as optim\n",
    "import torch.nn.functional as F\n",
    "import torchvision\n",
    "from torch import nn\n",
    "import torchvision.datasets as datasets\n",
    "import torchvision.models as models\n",
    "import torchvision.transforms as transforms\n",
    "import os\n",
    "import cv2\n",
    "from saliency_map import SaliencyDoG"
   ]
  },
  {
   "cell_type": "code",
   "execution_count": null,
   "metadata": {
    "id": "zqo6FYByI2D2"
   },
   "outputs": [],
   "source": [
    "saliency_mapper = SaliencyDoG(pyramid_height=5, shift=5, ch_3=False,\n",
    "                              low_pass_filter=True, multi_layer_map=False)\n",
    "for name in os.listdir(\"data/free\"):\n",
    "    if not \"png\" in name:\n",
    "        continue\n",
    "    img = cv2.imread(\"data/free/\"+name)\n",
    "    img_saliency_map = saliency_mapper.generate_saliency(img)\n",
    "    img_blurred = cv2.GaussianBlur(img_saliency_map, (3, 3), 5)\n",
    "    img_blurred = cv2.GaussianBlur(img_blurred, (3, 3), 5)\n",
    "    cv2.imwrite(\"saliency/free/\"+name, img_blurred)"
   ]
  },
  {
   "cell_type": "code",
   "execution_count": null,
   "metadata": {
    "id": "8A7RZWdTJGQN"
   },
   "outputs": [],
   "source": [
    "saliency_mapper = SaliencyDoG(pyramid_height=5, shift=5, ch_3=False,\n",
    "                              low_pass_filter=True, multi_layer_map=False)\n",
    "for name in os.listdir(\"data/blocked\"):\n",
    "    if not \"png\" in name:\n",
    "        continue\n",
    "    img = cv2.imread(\"data/blocked/\"+name)\n",
    "    img_saliency_map = saliency_mapper.generate_saliency(img)\n",
    "    img_blurred = cv2.GaussianBlur(img_saliency_map, (3, 3), 5)\n",
    "    img_blurred = cv2.GaussianBlur(img_blurred, (3, 3), 5)\n",
    "    cv2.imwrite(\"saliency/blocked/\"+name, img_blurred)"
   ]
  },
  {
   "cell_type": "markdown",
   "metadata": {
    "id": "pWnFu4P4zKjO"
   },
   "source": [
    "### Create dataset instance"
   ]
  },
  {
   "cell_type": "code",
   "execution_count": null,
   "metadata": {
    "colab": {
     "base_uri": "https://localhost:8080/"
    },
    "executionInfo": {
     "elapsed": 714,
     "status": "error",
     "timestamp": 1611931296385,
     "user": {
      "displayName": "Carlo Cena",
      "photoUrl": "https://lh3.googleusercontent.com/a-/AOh14Gh0f3a0eH9ojDaNw5OS4vAEjBjEgOMrbr5i7JdQ8Q=s64",
      "userId": "14201859508342393884"
     },
     "user_tz": -60
    },
    "id": "uZeQvi_VJTGC",
    "outputId": "fa5c6986-4d61-4bb7-e540-d0dbe8d2a847"
   },
   "outputs": [],
   "source": [
    "dataset = datasets.ImageFolder(\n",
    "    'saliency',\n",
    "    transforms.Compose([\n",
    "        transforms.Resize((224, 224)),\n",
    "        transforms.RandomHorizontalFlip(p=0.2),\n",
    "        transforms.RandomVerticalFlip(p=0.1),\n",
    "        transforms.RandomRotation(1),\n",
    "        transforms.GaussianBlur((3, 3), sigma=(1.0, 2.0)),\n",
    "        transforms.Grayscale(1),\n",
    "        transforms.ToTensor()\n",
    "    ])\n",
    ")"
   ]
  },
  {
   "cell_type": "markdown",
   "metadata": {
    "id": "tALaJvRfzKjR"
   },
   "source": [
    "### Split dataset into train and test sets"
   ]
  },
  {
   "cell_type": "code",
   "execution_count": null,
   "metadata": {
    "executionInfo": {
     "elapsed": 4048,
     "status": "ok",
     "timestamp": 1611927716144,
     "user": {
      "displayName": "Carlo Cena",
      "photoUrl": "https://lh3.googleusercontent.com/a-/AOh14Gh0f3a0eH9ojDaNw5OS4vAEjBjEgOMrbr5i7JdQ8Q=s64",
      "userId": "14201859508342393884"
     },
     "user_tz": -60
    },
    "id": "AOCCKR76zKjT"
   },
   "outputs": [],
   "source": [
    "train_len = int(len(dataset)*0.75)\n",
    "valid_len = len(dataset) - train_len\n",
    "train_dataset, valid_dataset = torch.utils.data.random_split(dataset, [train_len, valid_len])"
   ]
  },
  {
   "cell_type": "markdown",
   "metadata": {
    "id": "IW7mTR9ZzKjW"
   },
   "source": [
    "### Create data loaders to load data in batches"
   ]
  },
  {
   "cell_type": "code",
   "execution_count": null,
   "metadata": {
    "executionInfo": {
     "elapsed": 4042,
     "status": "ok",
     "timestamp": 1611927716147,
     "user": {
      "displayName": "Carlo Cena",
      "photoUrl": "https://lh3.googleusercontent.com/a-/AOh14Gh0f3a0eH9ojDaNw5OS4vAEjBjEgOMrbr5i7JdQ8Q=s64",
      "userId": "14201859508342393884"
     },
     "user_tz": -60
    },
    "id": "tmcNsm1EzKjc"
   },
   "outputs": [],
   "source": [
    "train_loader = torch.utils.data.DataLoader(\n",
    "    train_dataset,\n",
    "    batch_size=32,\n",
    "    shuffle=True,\n",
    "    num_workers=0,\n",
    "    pin_memory=True\n",
    ")\n",
    "\n",
    "valid_loader = torch.utils.data.DataLoader(\n",
    "    valid_dataset,\n",
    "    batch_size=64,\n",
    "    shuffle=True,\n",
    "    num_workers=0,\n",
    "    pin_memory=True\n",
    ")"
   ]
  },
  {
   "cell_type": "markdown",
   "metadata": {
    "id": "9YUDCr-ZzKje"
   },
   "source": [
    "### Define the neural network"
   ]
  },
  {
   "cell_type": "code",
   "execution_count": null,
   "metadata": {
    "executionInfo": {
     "elapsed": 762,
     "status": "ok",
     "timestamp": 1611928823995,
     "user": {
      "displayName": "Carlo Cena",
      "photoUrl": "https://lh3.googleusercontent.com/a-/AOh14Gh0f3a0eH9ojDaNw5OS4vAEjBjEgOMrbr5i7JdQ8Q=s64",
      "userId": "14201859508342393884"
     },
     "user_tz": -60
    },
    "id": "9ZniZr2FO5m3"
   },
   "outputs": [],
   "source": [
    "class Tommy(nn.Module):\n",
    "\n",
    "    def __init__(self, num_classes=2):\n",
    "        super(Tommy, self).__init__()\n",
    "        self.features = nn.Sequential(\n",
    "            nn.Conv2d(1, 64, kernel_size=11, stride=4, padding=2),\n",
    "            nn.ReLU(inplace=True),\n",
    "            nn.MaxPool2d(kernel_size=3, stride=2),\n",
    "            nn.Conv2d(64, 192, kernel_size=5, padding=2),\n",
    "            nn.ReLU(inplace=True),\n",
    "            nn.MaxPool2d(kernel_size=3, stride=2),\n",
    "            nn.Conv2d(192, 384, kernel_size=3, padding=1),\n",
    "            nn.ReLU(inplace=True),\n",
    "            nn.Conv2d(384, 256, kernel_size=3, padding=1),\n",
    "            nn.ReLU(inplace=True),\n",
    "            nn.Conv2d(256, 256, kernel_size=3, padding=1),\n",
    "            nn.ReLU(inplace=True),\n",
    "            nn.MaxPool2d(kernel_size=3, stride=2),\n",
    "        )\n",
    "        self.avgpool = nn.AdaptiveAvgPool2d((6, 6))\n",
    "        self.classifier = nn.Sequential(\n",
    "            nn.Dropout(),\n",
    "            nn.Linear(256 * 6 * 6, 256),\n",
    "            nn.ReLU(inplace=True),\n",
    "            nn.Dropout(),\n",
    "            nn.Linear(256, 128),\n",
    "            nn.ReLU(inplace=True),\n",
    "            nn.Linear(128, num_classes),\n",
    "        )\n",
    "\n",
    "    def forward(self, x):\n",
    "        x = self.features(x)\n",
    "        x = self.avgpool(x)\n",
    "        x = torch.flatten(x, 1)\n",
    "        x = self.classifier(x)\n",
    "        return x\n",
    "\n",
    "\n",
    "def tommy_net(progress=True, **kwargs):\n",
    "    model = Tommy(**kwargs)\n",
    "    return model"
   ]
  },
  {
   "cell_type": "code",
   "execution_count": null,
   "metadata": {
    "executionInfo": {
     "elapsed": 2384,
     "status": "ok",
     "timestamp": 1611930259788,
     "user": {
      "displayName": "Carlo Cena",
      "photoUrl": "https://lh3.googleusercontent.com/a-/AOh14Gh0f3a0eH9ojDaNw5OS4vAEjBjEgOMrbr5i7JdQ8Q=s64",
      "userId": "14201859508342393884"
     },
     "user_tz": -60
    },
    "id": "gZO9wxbkzKje"
   },
   "outputs": [],
   "source": [
    "model = tommy_net()"
   ]
  },
  {
   "cell_type": "markdown",
   "metadata": {
    "id": "SG0ReS9LwvoQ"
   },
   "source": [
    "For transfer learning execute cell below. Otherwise jump to the next one."
   ]
  },
  {
   "cell_type": "code",
   "execution_count": null,
   "metadata": {
    "colab": {
     "base_uri": "https://localhost:8080/"
    },
    "executionInfo": {
     "elapsed": 4418,
     "status": "ok",
     "timestamp": 1611922833139,
     "user": {
      "displayName": "Carlo Cena",
      "photoUrl": "https://lh3.googleusercontent.com/a-/AOh14Gh0f3a0eH9ojDaNw5OS4vAEjBjEgOMrbr5i7JdQ8Q=s64",
      "userId": "14201859508342393884"
     },
     "user_tz": -60
    },
    "id": "pTqHWsLVwvoQ",
    "outputId": "e6363700-34ba-45ce-facd-9ac26c6659cf"
   },
   "outputs": [],
   "source": [
    "#model.load_state_dict(torch.load('saved_models/best_model.pth', map_location=torch.device('cpu'))) # If cpu\n",
    "model.load_state_dict(torch.load('saved_models/best_model.pth', map_location=torch.device('cuda'))) # If cuda"
   ]
  },
  {
   "cell_type": "code",
   "execution_count": null,
   "metadata": {
    "executionInfo": {
     "elapsed": 945,
     "status": "ok",
     "timestamp": 1611930259804,
     "user": {
      "displayName": "Carlo Cena",
      "photoUrl": "https://lh3.googleusercontent.com/a-/AOh14Gh0f3a0eH9ojDaNw5OS4vAEjBjEgOMrbr5i7JdQ8Q=s64",
      "userId": "14201859508342393884"
     },
     "user_tz": -60
    },
    "id": "1Nu6npw4zKjh"
   },
   "outputs": [],
   "source": [
    "device = torch.device('cuda') # if cuda\n",
    "#device = torch.device('cpu') # if cpu\n",
    "model = model.to(device)"
   ]
  },
  {
   "cell_type": "markdown",
   "metadata": {
    "id": "uB4h1nqTzKjh"
   },
   "source": [
    "### Train the neural network"
   ]
  },
  {
   "cell_type": "code",
   "execution_count": null,
   "metadata": {
    "id": "c69Qns92zKjk",
    "scrolled": true
   },
   "outputs": [],
   "source": [
    "NUM_EPOCHS = 50\n",
    "BEST_MODEL_PATH = 'saved_models/best_model.pth'\n",
    "best_f1 = 0.92\n",
    "\n",
    "optimizer = optim.SGD(model.parameters(), lr=0.0001, momentum=0.9)\n",
    "\n",
    "for epoch in range(NUM_EPOCHS):\n",
    "    \n",
    "    for images, labels in iter(train_loader):\n",
    "        images = images.to(device)\n",
    "        labels = labels.to(device)\n",
    "        optimizer.zero_grad()\n",
    "        outputs = model(images)\n",
    "        loss = F.cross_entropy(outputs, labels)\n",
    "        loss.backward()\n",
    "        optimizer.step()\n",
    "    \n",
    "    valid_fp_count = 0.0\n",
    "    valid_fn_count = 0.0\n",
    "    valid_tp_count = 0.0\n",
    "    valid_tn_count = 0.0\n",
    "    valid_accuracy = 0.0\n",
    "    for images, labels in iter(valid_loader):\n",
    "        images = images.to(device)\n",
    "        labels = labels.to(device)\n",
    "        outputs = model(images)\n",
    "        if len(labels[labels==0]) > 0:\n",
    "            valid_fn_count += float(torch.sum(labels[labels==0] != outputs[labels==0].argmax(1)))\n",
    "            valid_tp_count += float(torch.sum(labels[labels==0] == outputs[labels==0].argmax(1)))\n",
    "        if len(labels[labels==1]) > 0:\n",
    "            valid_fp_count += float(torch.sum(labels[labels==1] != outputs[labels==1].argmax(1)))\n",
    "            valid_tn_count += float(torch.sum(labels[labels==1] == outputs[labels==1].argmax(1)))\n",
    "    precision = valid_tp_count/(valid_tp_count + valid_fp_count + 0.00001)\n",
    "    recall = valid_tp_count/(valid_tp_count + valid_fn_count + 0.00001)\n",
    "    \n",
    "    print(\"Epoch: \", epoch)\n",
    "    print(\"Precision \", precision)\n",
    "    print(\"Recall \", recall)\n",
    "    print(\"fp \", valid_fp_count)\n",
    "    print(\"fn \", valid_fn_count)\n",
    "    print(\"tp \", valid_tp_count)\n",
    "    print(\"tn \", valid_tn_count)\n",
    "    \n",
    "    valid_f1 = 2*precision*recall/(precision+recall + 0.00001)\n",
    "    print(\"Last loss: \", loss)\n",
    "    print('F1-score %f' % (valid_f1))\n",
    "    print()\n",
    "    if valid_f1 > best_f1:\n",
    "        torch.save(model.state_dict(), BEST_MODEL_PATH)\n",
    "        best_f1 = valid_f1"
   ]
  }
 ],
 "metadata": {
  "accelerator": "GPU",
  "colab": {
   "collapsed_sections": [],
   "name": "train_model.ipynb",
   "provenance": []
  },
  "kernelspec": {
   "display_name": "Python 3",
   "language": "python",
   "name": "python3"
  },
  "language_info": {
   "codemirror_mode": {
    "name": "ipython",
    "version": 3
   },
   "file_extension": ".py",
   "mimetype": "text/x-python",
   "name": "python",
   "nbconvert_exporter": "python",
   "pygments_lexer": "ipython3",
   "version": "3.8.3"
  }
 },
 "nbformat": 4,
 "nbformat_minor": 1
}
