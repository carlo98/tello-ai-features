{
 "cells": [
  {
   "cell_type": "markdown",
   "metadata": {
    "id": "XoQpd6nUzKi8"
   },
   "source": [
    "# Collision Avoidance - Train Model"
   ]
  },
  {
   "cell_type": "code",
   "execution_count": 1,
   "metadata": {
    "executionInfo": {
     "elapsed": 5506,
     "status": "ok",
     "timestamp": 1611780343138,
     "user": {
      "displayName": "Carlo Cena",
      "photoUrl": "https://lh3.googleusercontent.com/a-/AOh14Gh0f3a0eH9ojDaNw5OS4vAEjBjEgOMrbr5i7JdQ8Q=s64",
      "userId": "14201859508342393884"
     },
     "user_tz": -60
    },
    "id": "C-KXQ5xnzKjJ"
   },
   "outputs": [],
   "source": [
    "import torch\n",
    "import torch.optim as optim\n",
    "import torch.nn.functional as F\n",
    "import torchvision\n",
    "from torch import nn\n",
    "import torchvision.datasets as datasets\n",
    "import torchvision.models as models\n",
    "import torchvision.transforms as transforms\n",
    "import os\n",
    "import cv2"
   ]
  },
  {
   "cell_type": "code",
   "execution_count": null,
   "metadata": {
    "id": "5ZrWM-ahzbkj"
   },
   "outputs": [],
   "source": [
    "#from google.colab import drive\n",
    "#drive.mount('/gdrive')\n",
    "#%cd /gdrive/MyDrive/tello/"
   ]
  },
  {
   "cell_type": "code",
   "execution_count": 3,
   "metadata": {
    "executionInfo": {
     "elapsed": 339757,
     "status": "ok",
     "timestamp": 1611780677406,
     "user": {
      "displayName": "Carlo Cena",
      "photoUrl": "https://lh3.googleusercontent.com/a-/AOh14Gh0f3a0eH9ojDaNw5OS4vAEjBjEgOMrbr5i7JdQ8Q=s64",
      "userId": "14201859508342393884"
     },
     "user_tz": -60
    },
    "id": "WrHUBXHh2RQH"
   },
   "outputs": [],
   "source": [
    "for name in os.listdir(\"data/free\"):\n",
    "    if not \"png\" in name:\n",
    "        continue\n",
    "    img = cv2.imread(\"data/free/\"+name)\n",
    "    img_gray = cv2.cvtColor(img, cv2.COLOR_BGR2GRAY)\n",
    "    img_blurred = cv2.GaussianBlur(img_gray, (3, 3), 5)\n",
    "    canny = cv2.Canny(img_blurred, 20, 160)\n",
    "    cv2.imwrite(\"edges/free_edges/\"+name, canny)\n",
    "    #cv2.imshow('Canny', canny)\n",
    "    #cv2.waitKey(0)\n",
    "    #print(canny.shape)"
   ]
  },
  {
   "cell_type": "code",
   "execution_count": 4,
   "metadata": {
    "executionInfo": {
     "elapsed": 556034,
     "status": "ok",
     "timestamp": 1611780893687,
     "user": {
      "displayName": "Carlo Cena",
      "photoUrl": "https://lh3.googleusercontent.com/a-/AOh14Gh0f3a0eH9ojDaNw5OS4vAEjBjEgOMrbr5i7JdQ8Q=s64",
      "userId": "14201859508342393884"
     },
     "user_tz": -60
    },
    "id": "BqzBAviC2RQI"
   },
   "outputs": [],
   "source": [
    "for name in os.listdir(\"data/blocked\"):\n",
    "    if not \"png\" in name:\n",
    "        continue\n",
    "    img = cv2.imread(\"data/blocked/\"+name)\n",
    "    img_gray = cv2.cvtColor(img, cv2.COLOR_BGR2GRAY)\n",
    "    img_blurred = cv2.GaussianBlur(img_blurred, (3, 3), 5)\n",
    "    canny = cv2.Canny(img_gray, 20, 160)\n",
    "    cv2.imwrite(\"edges/blocked_edges/\"+name, canny)\n",
    "    #cv2.imshow('Canny', canny)\n",
    "    #cv2.waitKey(0)\n",
    "    #print(canny.shape)"
   ]
  },
  {
   "cell_type": "markdown",
   "metadata": {
    "id": "pWnFu4P4zKjO"
   },
   "source": [
    "### Create dataset instance"
   ]
  },
  {
   "cell_type": "code",
   "execution_count": 5,
   "metadata": {
    "executionInfo": {
     "elapsed": 796,
     "status": "ok",
     "timestamp": 1611780894494,
     "user": {
      "displayName": "Carlo Cena",
      "photoUrl": "https://lh3.googleusercontent.com/a-/AOh14Gh0f3a0eH9ojDaNw5OS4vAEjBjEgOMrbr5i7JdQ8Q=s64",
      "userId": "14201859508342393884"
     },
     "user_tz": -60
    },
    "id": "Dl-U93RAzKjQ"
   },
   "outputs": [],
   "source": [
    "dataset = datasets.ImageFolder(\n",
    "    'edges',\n",
    "    transforms.Compose([\n",
    "        transforms.Resize((224, 224)),\n",
    "        transforms.RandomRotation(1),\n",
    "        transforms.RandomHorizontalFlip(p=0.2),\n",
    "        transforms.Grayscale(1),\n",
    "        transforms.ToTensor()\n",
    "    ])\n",
    ")"
   ]
  },
  {
   "cell_type": "markdown",
   "metadata": {
    "id": "tALaJvRfzKjR"
   },
   "source": [
    "### Split dataset into train and test sets"
   ]
  },
  {
   "cell_type": "code",
   "execution_count": 6,
   "metadata": {
    "executionInfo": {
     "elapsed": 792,
     "status": "ok",
     "timestamp": 1611780894497,
     "user": {
      "displayName": "Carlo Cena",
      "photoUrl": "https://lh3.googleusercontent.com/a-/AOh14Gh0f3a0eH9ojDaNw5OS4vAEjBjEgOMrbr5i7JdQ8Q=s64",
      "userId": "14201859508342393884"
     },
     "user_tz": -60
    },
    "id": "AOCCKR76zKjT"
   },
   "outputs": [],
   "source": [
    "train_len = int(len(dataset)*0.75)\n",
    "valid_len = len(dataset) - train_len\n",
    "train_dataset, valid_dataset = torch.utils.data.random_split(dataset, [train_len, valid_len])"
   ]
  },
  {
   "cell_type": "markdown",
   "metadata": {
    "id": "IW7mTR9ZzKjW"
   },
   "source": [
    "### Create data loaders to load data in batches"
   ]
  },
  {
   "cell_type": "code",
   "execution_count": 7,
   "metadata": {
    "executionInfo": {
     "elapsed": 787,
     "status": "ok",
     "timestamp": 1611780894499,
     "user": {
      "displayName": "Carlo Cena",
      "photoUrl": "https://lh3.googleusercontent.com/a-/AOh14Gh0f3a0eH9ojDaNw5OS4vAEjBjEgOMrbr5i7JdQ8Q=s64",
      "userId": "14201859508342393884"
     },
     "user_tz": -60
    },
    "id": "tmcNsm1EzKjc"
   },
   "outputs": [],
   "source": [
    "train_loader = torch.utils.data.DataLoader(\n",
    "    train_dataset,\n",
    "    batch_size=8,\n",
    "    shuffle=True,\n",
    "    num_workers=0,\n",
    "    pin_memory=True\n",
    ")\n",
    "\n",
    "valid_loader = torch.utils.data.DataLoader(\n",
    "    valid_dataset,\n",
    "    batch_size=64,\n",
    "    shuffle=True,\n",
    "    num_workers=0,\n",
    "    pin_memory=True\n",
    ")"
   ]
  },
  {
   "cell_type": "markdown",
   "metadata": {
    "id": "9YUDCr-ZzKje"
   },
   "source": [
    "### Define the neural network"
   ]
  },
  {
   "cell_type": "code",
   "execution_count": 8,
   "metadata": {
    "executionInfo": {
     "elapsed": 1055,
     "status": "ok",
     "timestamp": 1611780894771,
     "user": {
      "displayName": "Carlo Cena",
      "photoUrl": "https://lh3.googleusercontent.com/a-/AOh14Gh0f3a0eH9ojDaNw5OS4vAEjBjEgOMrbr5i7JdQ8Q=s64",
      "userId": "14201859508342393884"
     },
     "user_tz": -60
    },
    "id": "9ZniZr2FO5m3"
   },
   "outputs": [],
   "source": [
    "class Tommy(nn.Module):\n",
    "\n",
    "    def __init__(self, num_classes=2):\n",
    "        super(Tommy, self).__init__()\n",
    "        self.features = nn.Sequential(\n",
    "            nn.Conv2d(1, 64, kernel_size=11, stride=4, padding=2),\n",
    "            nn.ReLU(inplace=True),\n",
    "            nn.MaxPool2d(kernel_size=3, stride=2),\n",
    "            nn.Conv2d(64, 256, kernel_size=3, padding=1),\n",
    "            nn.ReLU(inplace=True),\n",
    "            nn.MaxPool2d(kernel_size=3, stride=2),\n",
    "        )\n",
    "        self.avgpool = nn.AdaptiveAvgPool2d((6, 6))\n",
    "        self.classifier = nn.Sequential(\n",
    "            nn.Dropout(),\n",
    "            nn.Linear(256 * 6 * 6, 2048),\n",
    "            nn.ReLU(inplace=True),\n",
    "            nn.Dropout(),\n",
    "            nn.Linear(2048, 2048),\n",
    "            nn.ReLU(inplace=True),\n",
    "            nn.Linear(2048, num_classes),\n",
    "        )\n",
    "\n",
    "    def forward(self, x):\n",
    "        x = self.features(x)\n",
    "        x = self.avgpool(x)\n",
    "        x = torch.flatten(x, 1)\n",
    "        x = self.classifier(x)\n",
    "        return x\n",
    "\n",
    "\n",
    "def tommy_net(progress=True, **kwargs):\n",
    "    model = Tommy(**kwargs)\n",
    "    return model"
   ]
  },
  {
   "cell_type": "code",
   "execution_count": 15,
   "metadata": {
    "executionInfo": {
     "elapsed": 958,
     "status": "ok",
     "timestamp": 1611781174486,
     "user": {
      "displayName": "Carlo Cena",
      "photoUrl": "https://lh3.googleusercontent.com/a-/AOh14Gh0f3a0eH9ojDaNw5OS4vAEjBjEgOMrbr5i7JdQ8Q=s64",
      "userId": "14201859508342393884"
     },
     "user_tz": -60
    },
    "id": "gZO9wxbkzKje"
   },
   "outputs": [],
   "source": [
    "model = tommy_net()"
   ]
  },
  {
   "cell_type": "code",
   "execution_count": 16,
   "metadata": {
    "executionInfo": {
     "elapsed": 731,
     "status": "ok",
     "timestamp": 1611781174704,
     "user": {
      "displayName": "Carlo Cena",
      "photoUrl": "https://lh3.googleusercontent.com/a-/AOh14Gh0f3a0eH9ojDaNw5OS4vAEjBjEgOMrbr5i7JdQ8Q=s64",
      "userId": "14201859508342393884"
     },
     "user_tz": -60
    },
    "id": "1Nu6npw4zKjh"
   },
   "outputs": [],
   "source": [
    "device = torch.device('cuda') # Change to cpu if no cuda available\n",
    "model = model.to(device)"
   ]
  },
  {
   "cell_type": "markdown",
   "metadata": {
    "id": "uB4h1nqTzKjh"
   },
   "source": [
    "### Train the neural network"
   ]
  },
  {
   "cell_type": "code",
   "execution_count": null,
   "metadata": {
    "id": "c69Qns92zKjk",
    "scrolled": true
   },
   "outputs": [],
   "source": [
    "NUM_EPOCHS = 100\n",
    "BEST_MODEL_PATH = 'saved_models/best_model.pth'\n",
    "best_f1 = 0.0\n",
    "\n",
    "optimizer = optim.SGD(model.parameters(), lr=0.0008, momentum=0.9)\n",
    "\n",
    "for epoch in range(NUM_EPOCHS):\n",
    "    \n",
    "    for images, labels in iter(train_loader):\n",
    "        images = images.to(device)\n",
    "        labels = labels.to(device)\n",
    "        optimizer.zero_grad()\n",
    "        outputs = model(images)\n",
    "        loss = F.cross_entropy(outputs, labels)\n",
    "        loss.backward()\n",
    "        optimizer.step()\n",
    "    \n",
    "    valid_fp_count = 0.0\n",
    "    valid_fn_count = 0.0\n",
    "    valid_tp_count = 0.0\n",
    "    valid_tn_count = 0.0\n",
    "    valid_accuracy = 0.0\n",
    "    for images, labels in iter(valid_loader):\n",
    "        images = images.to(device)\n",
    "        labels = labels.to(device)\n",
    "        outputs = model(images)\n",
    "        if len(labels[labels==0]) > 0:\n",
    "            valid_fn_count += float(torch.sum(labels[labels==0] != outputs[labels==0].argmax(1)))\n",
    "            valid_tp_count += float(torch.sum(labels[labels==0] == outputs[labels==0].argmax(1)))\n",
    "        if len(labels[labels==1]) > 0:\n",
    "            valid_fp_count += float(torch.sum(labels[labels==1] != outputs[labels==1].argmax(1)))\n",
    "            valid_tn_count += float(torch.sum(labels[labels==1] == outputs[labels==1].argmax(1)))\n",
    "    precision = valid_tp_count/(valid_tp_count + valid_fp_count + 0.00001)\n",
    "    recall = valid_tp_count/(valid_tp_count + valid_fn_count + 0.00001)\n",
    "    \n",
    "    print(\"Precision \", precision)\n",
    "    print(\"Recall \", recall)\n",
    "    print(\"fp \", valid_fp_count)\n",
    "    print(\"fn \", valid_fn_count)\n",
    "    print(\"tp \", valid_tp_count)\n",
    "    print(\"tn \", valid_tn_count)\n",
    "    \n",
    "    valid_f1 = 2*precision*recall/(precision+recall + 0.00001)\n",
    "    print('%d: %f' % (epoch, valid_f1))\n",
    "    if valid_f1 > best_f1:\n",
    "        torch.save(model.state_dict(), BEST_MODEL_PATH)\n",
    "        best_f1 = valid_f1"
   ]
  }
 ],
 "metadata": {
  "accelerator": "GPU",
  "colab": {
   "collapsed_sections": [],
   "name": "train_model_edges.ipynb",
   "provenance": []
  },
  "kernelspec": {
   "display_name": "Python 3",
   "language": "python",
   "name": "python3"
  },
  "language_info": {
   "codemirror_mode": {
    "name": "ipython",
    "version": 3
   },
   "file_extension": ".py",
   "mimetype": "text/x-python",
   "name": "python",
   "nbconvert_exporter": "python",
   "pygments_lexer": "ipython3",
   "version": "3.8.3"
  }
 },
 "nbformat": 4,
 "nbformat_minor": 1
}
