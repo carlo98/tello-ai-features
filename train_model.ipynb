{
 "cells": [
  {
   "cell_type": "markdown",
   "metadata": {
    "id": "XoQpd6nUzKi8"
   },
   "source": [
    "# Collision Avoidance - Train Model"
   ]
  },
  {
   "cell_type": "code",
   "execution_count": 6,
   "metadata": {
    "id": "C-KXQ5xnzKjJ"
   },
   "outputs": [
    {
     "ename": "ModuleNotFoundError",
     "evalue": "No module named 'torch'",
     "output_type": "error",
     "traceback": [
      "\u001b[0;31m---------------------------------------------------------------------------\u001b[0m",
      "\u001b[0;31mModuleNotFoundError\u001b[0m                       Traceback (most recent call last)",
      "\u001b[0;32m<ipython-input-6-7815b9fea4bb>\u001b[0m in \u001b[0;36m<module>\u001b[0;34m\u001b[0m\n\u001b[0;32m----> 1\u001b[0;31m \u001b[0;32mimport\u001b[0m \u001b[0mtorch\u001b[0m\u001b[0;34m\u001b[0m\u001b[0;34m\u001b[0m\u001b[0m\n\u001b[0m\u001b[1;32m      2\u001b[0m \u001b[0;32mimport\u001b[0m \u001b[0mtorch\u001b[0m\u001b[0;34m.\u001b[0m\u001b[0moptim\u001b[0m \u001b[0;32mas\u001b[0m \u001b[0moptim\u001b[0m\u001b[0;34m\u001b[0m\u001b[0;34m\u001b[0m\u001b[0m\n\u001b[1;32m      3\u001b[0m \u001b[0;32mimport\u001b[0m \u001b[0mtorch\u001b[0m\u001b[0;34m.\u001b[0m\u001b[0mnn\u001b[0m\u001b[0;34m.\u001b[0m\u001b[0mfunctional\u001b[0m \u001b[0;32mas\u001b[0m \u001b[0mF\u001b[0m\u001b[0;34m\u001b[0m\u001b[0;34m\u001b[0m\u001b[0m\n\u001b[1;32m      4\u001b[0m \u001b[0;32mimport\u001b[0m \u001b[0mtorchvision\u001b[0m\u001b[0;34m\u001b[0m\u001b[0;34m\u001b[0m\u001b[0m\n\u001b[1;32m      5\u001b[0m \u001b[0;32mimport\u001b[0m \u001b[0mtorchvision\u001b[0m\u001b[0;34m.\u001b[0m\u001b[0mdatasets\u001b[0m \u001b[0;32mas\u001b[0m \u001b[0mdatasets\u001b[0m\u001b[0;34m\u001b[0m\u001b[0;34m\u001b[0m\u001b[0m\n",
      "\u001b[0;31mModuleNotFoundError\u001b[0m: No module named 'torch'"
     ]
    }
   ],
   "source": [
    "import torch\n",
    "import torch.optim as optim\n",
    "import torch.nn.functional as F\n",
    "import torchvision\n",
    "import torchvision.datasets as datasets\n",
    "import torchvision.models as models\n",
    "import torchvision.transforms as transforms\n",
    "import os\n",
    "import cv2"
   ]
  },
  {
   "cell_type": "code",
   "execution_count": null,
   "metadata": {
    "id": "5ZrWM-ahzbkj"
   },
   "outputs": [],
   "source": [
    "#from google.colab import drive\n",
    "#drive.mount('/gdrive')\n",
    "#%cd /gdrive/MyDrive/tello/"
   ]
  },
  {
   "cell_type": "code",
   "execution_count": 3,
   "metadata": {},
   "outputs": [],
   "source": [
    "for name in os.listdir(\"data/free\"):\n",
    "    if not \"png\" in name:\n",
    "        continue\n",
    "    img = cv2.imread(\"data/free/\"+name)\n",
    "    img_gray = cv2.cvtColor(img, cv2.COLOR_BGR2GRAY)\n",
    "    canny = cv2.Canny(img_gray, 60, 160)\n",
    "    cv2.imwrite(\"edges/free_edges/\"+name, canny)\n",
    "    #cv2.imshow('Canny', canny)\n",
    "    #cv2.waitKey(0)\n",
    "    #print(canny.shape)"
   ]
  },
  {
   "cell_type": "code",
   "execution_count": 4,
   "metadata": {},
   "outputs": [],
   "source": [
    "for name in os.listdir(\"data/blocked\"):\n",
    "    if not \"png\" in name:\n",
    "        continue\n",
    "    img = cv2.imread(\"data/blocked/\"+name)\n",
    "    img_gray = cv2.cvtColor(img, cv2.COLOR_BGR2GRAY)\n",
    "    canny = cv2.Canny(img_gray, 60, 160)\n",
    "    cv2.imwrite(\"edges/blocked_edges/\"+name, canny)\n",
    "    #cv2.imshow('Canny', canny)\n",
    "    #cv2.waitKey(0)\n",
    "    #print(canny.shape)"
   ]
  },
  {
   "cell_type": "markdown",
   "metadata": {
    "id": "pWnFu4P4zKjO"
   },
   "source": [
    "### Create dataset instance"
   ]
  },
  {
   "cell_type": "code",
   "execution_count": 5,
   "metadata": {
    "id": "Dl-U93RAzKjQ"
   },
   "outputs": [
    {
     "ename": "NameError",
     "evalue": "name 'datasets' is not defined",
     "output_type": "error",
     "traceback": [
      "\u001b[0;31m---------------------------------------------------------------------------\u001b[0m",
      "\u001b[0;31mNameError\u001b[0m                                 Traceback (most recent call last)",
      "\u001b[0;32m<ipython-input-5-b7de9f62341f>\u001b[0m in \u001b[0;36m<module>\u001b[0;34m\u001b[0m\n\u001b[0;32m----> 1\u001b[0;31m dataset = datasets.ImageFolder(\n\u001b[0m\u001b[1;32m      2\u001b[0m     \u001b[0;34m'edges'\u001b[0m\u001b[0;34m,\u001b[0m\u001b[0;34m\u001b[0m\u001b[0;34m\u001b[0m\u001b[0m\n\u001b[1;32m      3\u001b[0m     transforms.Compose([\n\u001b[1;32m      4\u001b[0m         \u001b[0mtransforms\u001b[0m\u001b[0;34m.\u001b[0m\u001b[0mResize\u001b[0m\u001b[0;34m(\u001b[0m\u001b[0;34m(\u001b[0m\u001b[0;36m224\u001b[0m\u001b[0;34m,\u001b[0m \u001b[0;36m224\u001b[0m\u001b[0;34m)\u001b[0m\u001b[0;34m)\u001b[0m\u001b[0;34m,\u001b[0m\u001b[0;34m\u001b[0m\u001b[0;34m\u001b[0m\u001b[0m\n\u001b[1;32m      5\u001b[0m         \u001b[0mtransforms\u001b[0m\u001b[0;34m.\u001b[0m\u001b[0mRandomRotation\u001b[0m\u001b[0;34m(\u001b[0m\u001b[0;36m1\u001b[0m\u001b[0;34m)\u001b[0m\u001b[0;34m,\u001b[0m\u001b[0;34m\u001b[0m\u001b[0;34m\u001b[0m\u001b[0m\n",
      "\u001b[0;31mNameError\u001b[0m: name 'datasets' is not defined"
     ]
    }
   ],
   "source": [
    "dataset = datasets.ImageFolder(\n",
    "    'edges',\n",
    "    transforms.Compose([\n",
    "        transforms.Resize((224, 224)),\n",
    "        transforms.RandomRotation(1),\n",
    "        transforms.RandomHorizontalFlip(p=0.2),\n",
    "        transforms.ToTensor()\n",
    "    ])\n",
    ")"
   ]
  },
  {
   "cell_type": "markdown",
   "metadata": {
    "id": "tALaJvRfzKjR"
   },
   "source": [
    "### Split dataset into train and test sets"
   ]
  },
  {
   "cell_type": "code",
   "execution_count": null,
   "metadata": {
    "id": "AOCCKR76zKjT"
   },
   "outputs": [],
   "source": [
    "train_len = int(len(dataset)*0.75)\n",
    "valid_len = len(dataset) - train_len\n",
    "train_dataset, valid_dataset = torch.utils.data.random_split(dataset, [train_len, valid_len])"
   ]
  },
  {
   "cell_type": "markdown",
   "metadata": {
    "id": "IW7mTR9ZzKjW"
   },
   "source": [
    "### Create data loaders to load data in batches"
   ]
  },
  {
   "cell_type": "code",
   "execution_count": null,
   "metadata": {
    "id": "tmcNsm1EzKjc"
   },
   "outputs": [],
   "source": [
    "train_loader = torch.utils.data.DataLoader(\n",
    "    train_dataset,\n",
    "    batch_size=8,\n",
    "    shuffle=True,\n",
    "    num_workers=0,\n",
    "    pin_memory=True\n",
    ")\n",
    "\n",
    "valid_loader = torch.utils.data.DataLoader(\n",
    "    valid_dataset,\n",
    "    batch_size=64,\n",
    "    shuffle=True,\n",
    "    num_workers=0,\n",
    "    pin_memory=True\n",
    ")"
   ]
  },
  {
   "cell_type": "markdown",
   "metadata": {
    "id": "9YUDCr-ZzKje"
   },
   "source": [
    "### Define the neural network"
   ]
  },
  {
   "cell_type": "code",
   "execution_count": null,
   "metadata": {
    "id": "gZO9wxbkzKje"
   },
   "outputs": [],
   "source": [
    "model = models.alexnet(pretrained=True)"
   ]
  },
  {
   "cell_type": "code",
   "execution_count": null,
   "metadata": {
    "id": "sAG69jImzKjg"
   },
   "outputs": [],
   "source": [
    "model.features[0] = torch.nn.Conv2d(1, 64, kernel_size=11, stride=4, padding=2)\n",
    "model.classifier[6] = torch.nn.Linear(model.classifier[6].in_features, 2)"
   ]
  },
  {
   "cell_type": "code",
   "execution_count": null,
   "metadata": {
    "id": "1Nu6npw4zKjh"
   },
   "outputs": [],
   "source": [
    "device = torch.device('cuda') # Change to cpu if no cuda available\n",
    "model = model.to(device)"
   ]
  },
  {
   "cell_type": "markdown",
   "metadata": {
    "id": "uB4h1nqTzKjh"
   },
   "source": [
    "### Train the neural network"
   ]
  },
  {
   "cell_type": "code",
   "execution_count": null,
   "metadata": {
    "id": "imLDize7zKjh"
   },
   "outputs": [],
   "source": [
    "import matplotlib.pyplot as plt\n",
    "import numpy as np\n",
    "cont = 0\n",
    "for images, labels in iter(train_loader):\n",
    "    if cont >= 10:\n",
    "        break\n",
    "    cont += 1\n",
    "    img = np.reshape(images[0], (224, 224, 3))\n",
    "    plt.imshow(img)\n",
    "    plt.show()\n",
    "    print(labels[0])"
   ]
  },
  {
   "cell_type": "code",
   "execution_count": null,
   "metadata": {
    "colab": {
     "base_uri": "https://localhost:8080/"
    },
    "id": "c69Qns92zKjk",
    "outputId": "d3c85587-c14f-4ff9-9fb4-af1cc7059f5f",
    "scrolled": true
   },
   "outputs": [
    {
     "name": "stdout",
     "output_type": "stream",
     "text": [
      "Precision  0.8823529411764706\n",
      "Recall  0.7142857142857143\n",
      "fp  2.0\n",
      "fn  6.0\n",
      "tp  15.0\n",
      "tn  43.0\n",
      "Accuracy  4.0\n",
      "0: 0.789474\n"
     ]
    }
   ],
   "source": [
    "NUM_EPOCHS = 30\n",
    "BEST_MODEL_PATH = 'saved_models/best_model_1.pth'\n",
    "best_f1 = 0.0\n",
    "\n",
    "optimizer = optim.SGD(model.parameters(), lr=0.001, momentum=0.9)\n",
    "\n",
    "for epoch in range(NUM_EPOCHS):\n",
    "    \n",
    "    for images, labels in iter(train_loader):\n",
    "        images = images.to(device)\n",
    "        labels = labels.to(device)\n",
    "        optimizer.zero_grad()\n",
    "        outputs = model(images)\n",
    "        loss = F.cross_entropy(outputs, labels)\n",
    "        loss.backward()\n",
    "        optimizer.step()\n",
    "    \n",
    "    valid_fp_count = 0.0\n",
    "    valid_fn_count = 0.0\n",
    "    valid_tp_count = 0.0\n",
    "    valid_tn_count = 0.0\n",
    "    valid_accuracy = 0.0\n",
    "    for images, labels in iter(valid_loader):\n",
    "        images = images.to(device)\n",
    "        labels = labels.to(device)\n",
    "        outputs = model(images)\n",
    "        if len(labels[labels==0]) > 0:\n",
    "            valid_fn_count += float(torch.sum(labels[labels==0] != outputs[labels==0].argmax(1)))\n",
    "            valid_tp_count += float(torch.sum(labels[labels==0] == outputs[labels==0].argmax(1)))\n",
    "        if len(labels[labels==1]) > 0:\n",
    "            valid_fp_count += float(torch.sum(labels[labels==1] != outputs[labels==1].argmax(1)))\n",
    "            valid_tn_count += float(torch.sum(labels[labels==1] == outputs[labels==1].argmax(1)))\n",
    "    precision = valid_tp_count/(valid_tp_count + valid_fp_count)\n",
    "    recall = valid_tp_count/(valid_tp_count + valid_fn_count)\n",
    "    \n",
    "    print(\"Precision \", precision)\n",
    "    print(\"Recall \", recall)\n",
    "    print(\"fp \", valid_fp_count)\n",
    "    print(\"fn \", valid_fn_count)\n",
    "    print(\"tp \", valid_tp_count)\n",
    "    print(\"tn \", valid_tn_count)\n",
    "    \n",
    "    valid_f1 = 2*precision*recall/(precision+recall)\n",
    "    print('%d: %f' % (epoch, valid_f1))\n",
    "    if valid_f1 > best_f1:\n",
    "        torch.save(model.state_dict(), BEST_MODEL_PATH)\n",
    "        best_f1 = valid_f1"
   ]
  }
 ],
 "metadata": {
  "accelerator": "GPU",
  "colab": {
   "collapsed_sections": [],
   "name": "Copia di Copia di train_model.ipynb",
   "provenance": []
  },
  "kernelspec": {
   "display_name": "Python 3",
   "language": "python",
   "name": "python3"
  },
  "language_info": {
   "codemirror_mode": {
    "name": "ipython",
    "version": 3
   },
   "file_extension": ".py",
   "mimetype": "text/x-python",
   "name": "python",
   "nbconvert_exporter": "python",
   "pygments_lexer": "ipython3",
   "version": "3.8.3"
  }
 },
 "nbformat": 4,
 "nbformat_minor": 1
}
