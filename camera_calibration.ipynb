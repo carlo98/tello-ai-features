{
 "cells": [
  {
   "cell_type": "code",
   "execution_count": null,
   "metadata": {},
   "outputs": [],
   "source": [
    "import numpy as np\n",
    "import cv2"
   ]
  },
  {
   "cell_type": "code",
   "execution_count": null,
   "metadata": {},
   "outputs": [],
   "source": [
    "dirname = \"chessboards/\"\n",
    "img_names = [dirname + str(i) + \".jpg\" for i in range(1,22)]"
   ]
  },
  {
   "cell_type": "code",
   "execution_count": null,
   "metadata": {},
   "outputs": [],
   "source": [
    "square_size = 20.1 #mm\n",
    "pattern_size = (8,5) # number of inner corner, (columns, rows) for OpenCV\n",
    "indices = np.indices(pattern_size, dtype=np.float32)\n",
    "indices *= square_size\n",
    "coords_3D = (np.transpose(indices, [2, 1, 0])).reshape(-1, 2)\n",
    "pattern_points = np.concatenate([coords_3D, np.zeros([coords_3D.shape[0], 1], dtype=np.float32)], axis=-1)"
   ]
  },
  {
   "cell_type": "code",
   "execution_count": null,
   "metadata": {},
   "outputs": [],
   "source": [
    "def processImage(fn):\n",
    "    img = cv2.imread(fn, cv2.IMREAD_GRAYSCALE)\n",
    "    # Check image loaded correctly\n",
    "    if img is None:\n",
    "        print(\"Failed to load\", fn)\n",
    "        return None\n",
    "    # Finding corners\n",
    "    found, corners = cv2.findChessboardCorners(img, pattern_size)\n",
    "    if found:\n",
    "        # Refining corner position\n",
    "        term = (cv2.TERM_CRITERIA_EPS + cv2.TERM_CRITERIA_COUNT, 5, 1)\n",
    "        cv2.cornerSubPix(img, corners, (5, 5), (-1, -1), term)\n",
    "    else:\n",
    "        print('chessboard not found')\n",
    "        return None\n",
    "    return (corners.reshape(-1, 2), pattern_points)"
   ]
  },
  {
   "cell_type": "code",
   "execution_count": null,
   "metadata": {},
   "outputs": [],
   "source": [
    "chessboards = [processImage(fn) for fn in img_names]"
   ]
  },
  {
   "cell_type": "code",
   "execution_count": null,
   "metadata": {},
   "outputs": [],
   "source": [
    "chessboards = [x for x in chessboards if x is not None]"
   ]
  },
  {
   "cell_type": "code",
   "execution_count": null,
   "metadata": {},
   "outputs": [],
   "source": [
    "# Creating the lists of 2D and 3D points \n",
    "obj_points = [] #3D points\n",
    "img_points = [] #2D points\n",
    "\n",
    "for (corners, pattern_points) in chessboards:\n",
    "        img_points.append(corners)\n",
    "        obj_points.append(pattern_points)"
   ]
  },
  {
   "cell_type": "code",
   "execution_count": null,
   "metadata": {},
   "outputs": [],
   "source": [
    "# Getting the width and height of the images\n",
    "h, w = cv2.imread(img_names[0], cv2.IMREAD_GRAYSCALE).shape[:2]\n",
    "\n",
    "# Calibrating Camera\n",
    "rms, camera_matrix, dist_coefs, rvecs, tvecs = cv2.calibrateCamera(obj_points, img_points, (w, h), None, None)\n",
    "\n",
    "rotation_matrix = cv2.Rodrigues(rvecs[0])[0]\n",
    "translation_matrix = tvecs[0]\n",
    "extrinsics_matrix = np.concatenate([rotation_matrix,translation_matrix], axis=1)\n",
    "\n",
    "print(\"camera matrix:\\n\", camera_matrix)\n",
    "print(\"distortion coefficients: \", dist_coefs.ravel())\n",
    "print(\"Extrinsic matrix: \", extrinsics_matrix)"
   ]
  }
 ],
 "metadata": {
  "kernelspec": {
   "display_name": "Python 3",
   "language": "python",
   "name": "python3"
  },
  "language_info": {
   "codemirror_mode": {
    "name": "ipython",
    "version": 3
   },
   "file_extension": ".py",
   "mimetype": "text/x-python",
   "name": "python",
   "nbconvert_exporter": "python",
   "pygments_lexer": "ipython3",
   "version": "3.8.3"
  }
 },
 "nbformat": 4,
 "nbformat_minor": 4
}
